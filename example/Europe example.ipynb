{
 "cells": [
  {
   "cell_type": "markdown",
   "metadata": {},
   "source": [
    "# MagPySV example workflow - European observatories"
   ]
  },
  {
   "cell_type": "markdown",
   "metadata": {},
   "source": [
    "# Setup"
   ]
  },
  {
   "cell_type": "code",
   "execution_count": 1,
   "metadata": {
    "collapsed": true
   },
   "outputs": [],
   "source": [
    "# Setup python paths and import some modules\n",
    "from IPython.display import Image\n",
    "import sys\n",
    "sys.path.append('..')\n",
    "import os\n",
    "import datetime as dt\n",
    "import pandas as pd\n",
    "import numpy as np\n",
    "import matplotlib.pyplot as plt\n",
    "import warnings\n",
    "warnings.filterwarnings('ignore')\n",
    "# Import all of the MagPySV modules\n",
    "import magpysv.denoise as denoise\n",
    "import magpysv.inputoutput as inputoutput\n",
    "import magpysv.model_prediction as model_prediction\n",
    "import magpysv.svplots as svplots\n",
    "import magpysv.svtools as svtools\n",
    "import magpysv.misc as misc"
   ]
  },
  {
   "cell_type": "code",
   "execution_count": 2,
   "metadata": {
    "collapsed": false
   },
   "outputs": [],
   "source": [
    "%matplotlib notebook"
   ]
  },
  {
   "cell_type": "markdown",
   "metadata": {},
   "source": [
    "# Downloading data"
   ]
  },
  {
   "cell_type": "code",
   "execution_count": null,
   "metadata": {
    "collapsed": false
   },
   "outputs": [],
   "source": [
    "from lib import consume_webservices as cws\n",
    "\n",
    "wdc_app_path = '/Users/gracecox/geomag_wdc_web_app_interface/'\n",
    "sys.path.append(wdc_app_path)\n",
    "cadence = 'hour'\n",
    "\n",
    "start_date = dt.date(1960, 1, 1)\n",
    "end_date = dt.date(2009, 12, 31)\n",
    "service = 'WDC'\n",
    "download_dir = '/Users/gracecox/Desktop/download_test/'\n",
    "configpath = os.path.join(wdc_app_path, 'lib/consume_rest.ini')\n",
    "\n",
    "observatory_list = ['CLF', 'NGK', 'WNG']\n",
    "\n",
    "[\n",
    "cws.fetch_data(\n",
    "        start_date, end_date,\n",
    "        observatory_, cadence,\n",
    "        service, download_dir, configpath\n",
    ")\n",
    "for observatory_ in observatory_list]"
   ]
  },
  {
   "cell_type": "code",
   "execution_count": null,
   "metadata": {
    "collapsed": true
   },
   "outputs": [],
   "source": [
    "observatory_list = ['CLF', 'NGK', 'WNG']\n",
    "download_dir = '/Users/gracecox/Desktop/download_test/'"
   ]
  },
  {
   "cell_type": "markdown",
   "metadata": {},
   "source": [
    "# Initial processing"
   ]
  },
  {
   "cell_type": "markdown",
   "metadata": {},
   "source": [
    "Extract all data from the WDC files, convert into the proper hourly means using the tabular base and save the X, Y and Z components to CSV files."
   ]
  },
  {
   "cell_type": "code",
   "execution_count": null,
   "metadata": {
    "collapsed": false
   },
   "outputs": [],
   "source": [
    "inputoutput.wdc_to_hourly_csv(wdc_path=download_dir, write_path=download_dir + '/hourly/', obs_list=observatory_list,\n",
    "                  print_obs=True)"
   ]
  },
  {
   "cell_type": "code",
   "execution_count": null,
   "metadata": {
    "collapsed": true
   },
   "outputs": [],
   "source": [
    "# Path to file containing baseline discontinuity information\n",
    "baseline_data = misc.get_baseline_info(file_path='/Users/gracecox/Desktop/jumps_info/jump_records')"
   ]
  },
  {
   "cell_type": "code",
   "execution_count": null,
   "metadata": {
    "collapsed": false
   },
   "outputs": [],
   "source": [
    "# Loop over all observatories and calculate SV series for each\n",
    "for observatory in observatory_list:\n",
    "    print(observatory)\n",
    "    # Load hourly data\n",
    "    data_file = observatory + '.csv'\n",
    "    hourly_data = inputoutput.read_csv_data(\n",
    "        fname=os.path.join(download_dir + 'hourly/', data_file),\n",
    "        data_type='mf')\n",
    "    # Resample to monthly means\n",
    "    resampled_field_data = svtools.data_resampling(hourly_data, sampling='MS', average_date=True)\n",
    "    # Correct documented baseline changes\n",
    "    misc.correct_baseline_change(observatory=observatory,\n",
    "                          field_data=resampled_field_data,\n",
    "                          jump_data=jump_data)\n",
    "    # Write out the monthly means for magnetic field\n",
    "    inputoutput.write_csv_data(data=resampled_field_data,\n",
    "                            write_path=download_dir + 'monthly_mf/',\n",
    "                            obs_name=observatory)\n",
    "    # Calculate SV from monthly field means\n",
    "    sv_data = svtools.calculate_sv(resampled_field_data,\n",
    "                                   mean_spacing=1)\n",
    "    # Write out the SV data\n",
    "    inputoutput.write_csv_data(data=sv_data,\n",
    "                               write_path=download_dir + 'monthly_sv/fdmm/',\n",
    "                               obs_name=observatory)"
   ]
  },
  {
   "cell_type": "markdown",
   "metadata": {},
   "source": [
    "# Field model predictions"
   ]
  },
  {
   "cell_type": "markdown",
   "metadata": {},
   "source": [
    "We need some secular variation predictions from a geomagnetic field model. This example uses COV-OBS. The following code obtains the complete list of geomagnetic observatory locations from the WDC website, converts the lat/lon in degrees to colat/lon in radians and altitude from m to km, and then runs the COV-OBS model for each location to produce files containing the model prediction of SV and MF at that location."
   ]
  },
  {
   "cell_type": "code",
   "execution_count": null,
   "metadata": {
    "collapsed": false
   },
   "outputs": [],
   "source": [
    "stations = model_prediction.get_observatory_list()"
   ]
  },
  {
   "cell_type": "code",
   "execution_count": null,
   "metadata": {
    "collapsed": false,
    "scrolled": true
   },
   "outputs": [],
   "source": [
    "model_prediction.run_covobs(stations=stations, model_path='/Users/gracecox/Dropbox/cov-obs_x1/',\n",
    "                            output_path='/Users/gracecox/Dropbox/cov-obs_x1/monthly_vals/')"
   ]
  },
  {
   "cell_type": "markdown",
   "metadata": {},
   "source": [
    "# Residuals"
   ]
  },
  {
   "cell_type": "markdown",
   "metadata": {},
   "source": [
    "Concatenate the data for our selected observatories."
   ]
  },
  {
   "cell_type": "code",
   "execution_count": null,
   "metadata": {
    "collapsed": false,
    "scrolled": true
   },
   "outputs": [],
   "source": [
    "# Start and end dates of the analysis as (year, month, day)\n",
    "start = dt.datetime(1960, 1, 1)\n",
    "end = dt.datetime(2010, 12, 31)\n",
    "\n",
    "obs_data, model_sv_data, model_mf_data = inputoutput.combine_csv_data(\n",
    "    start_date=start, end_date=end, obs_list=observatory_list,\n",
    "    data_path=download_dir + 'monthly_sv/fdmm/',\n",
    "    model_path=\"/Users/gracecox/Dropbox/field_models/cov-obs_x1/monthly_vals/\", day_of_month=1)\n",
    "\n",
    "dates = obs_data['date']"
   ]
  },
  {
   "cell_type": "code",
   "execution_count": null,
   "metadata": {
    "collapsed": false
   },
   "outputs": [],
   "source": [
    "obs_data"
   ]
  },
  {
   "cell_type": "markdown",
   "metadata": {},
   "source": [
    "# SV plots"
   ]
  },
  {
   "cell_type": "code",
   "execution_count": null,
   "metadata": {
    "collapsed": false,
    "scrolled": false
   },
   "outputs": [],
   "source": [
    "for observatory in observatory_list:\n",
    "    fig = svplots.plot_sv(dates=dates, sv=obs_data.filter(regex=observatory),\n",
    "                    model=model_sv_data.filter(regex=observatory),\n",
    "                    fig_size=(6, 18), font_size=10, label_size=16, plot_legend=False,\n",
    "                    obs=observatory, model_name='COV-OBS')"
   ]
  },
  {
   "cell_type": "markdown",
   "metadata": {},
   "source": [
    "# Outlier detection"
   ]
  },
  {
   "cell_type": "markdown",
   "metadata": {
    "collapsed": true
   },
   "source": [
    "Optionally remove spikes in the data before denoising. Large outliers can affect the denoising process so better to remove them beforehand for some series (i.e. at high latitude observatories)."
   ]
  },
  {
   "cell_type": "code",
   "execution_count": null,
   "metadata": {
    "collapsed": false,
    "scrolled": true
   },
   "outputs": [],
   "source": [
    "obs_data.drop(['date'], axis=1, inplace=True)\n",
    "for column in obs_data:    \n",
    "    obs_data[column] = denoise.detect_outliers(dates=dates, signal=obs_data[column], obs_name=column,\n",
    "                                               threshold=4,\n",
    "                                               window_length=96, plot_fig=True, fig_size=(4,4))\n",
    "obs_data.insert(0, 'date', dates)"
   ]
  },
  {
   "cell_type": "markdown",
   "metadata": {},
   "source": [
    "# External noise removal"
   ]
  },
  {
   "cell_type": "markdown",
   "metadata": {},
   "source": [
    "Compute the residuals and use the eigenvalues/vectors of the covariance matrix to remove unmodelled external signal (Wardinski & Holme, 2011)"
   ]
  },
  {
   "cell_type": "code",
   "execution_count": null,
   "metadata": {
    "collapsed": false
   },
   "outputs": [],
   "source": [
    "residuals = svtools.calculate_residuals(obs_data=obs_data, model_data=model_sv_data)"
   ]
  },
  {
   "cell_type": "code",
   "execution_count": null,
   "metadata": {
    "collapsed": false
   },
   "outputs": [],
   "source": [
    "model_sv_data.drop(['date'], axis=1, inplace=True)\n",
    "obs_data.drop(['date'], axis=1, inplace=True)"
   ]
  },
  {
   "cell_type": "code",
   "execution_count": null,
   "metadata": {
    "collapsed": false
   },
   "outputs": [],
   "source": [
    "denoised, proxy, eigenvals, eigenvecs, projected_residuals, corrected_residuals = denoise.eigenvalue_analysis(\n",
    "    dates=dates, obs_data=obs_data, model_data=model_sv_data, residuals=residuals,\n",
    "    proxy_number=2)"
   ]
  },
  {
   "cell_type": "markdown",
   "metadata": {},
   "source": [
    "# Denoised SV plots"
   ]
  },
  {
   "cell_type": "markdown",
   "metadata": {},
   "source": [
    "Plots showing the original SV data, the denoised data (optionally with a running average) and the field model predictions."
   ]
  },
  {
   "cell_type": "code",
   "execution_count": null,
   "metadata": {
    "collapsed": false,
    "scrolled": false
   },
   "outputs": [],
   "source": [
    "for observatory in observatory_list:\n",
    "    xratio, yratio, zratio = svplots.plot_sv_comparison(dates=dates, denoised_sv=denoised.filter(regex=observatory),\n",
    "        residuals=residuals.filter(regex=observatory),\n",
    "        corrected_residuals = corrected_residuals.filter(regex=observatory),\n",
    "        noisy_sv=obs_data.filter(regex=observatory), model=model_sv_data.filter(regex=observatory),\n",
    "        model_name='COV-OBS',\n",
    "        fig_size=(10, 7), font_size=10, label_size=14, obs=observatory, plot_rms=True)"
   ]
  },
  {
   "cell_type": "markdown",
   "metadata": {},
   "source": [
    "Plots showing the denoised data (optionally with a running average) and the field model predictions."
   ]
  },
  {
   "cell_type": "code",
   "execution_count": null,
   "metadata": {
    "collapsed": false,
    "scrolled": false
   },
   "outputs": [],
   "source": [
    "for observatory in observatory_list:\n",
    "    svplots.plot_sv(dates=dates, sv=denoised.filter(regex=observatory), model=model_sv_data.filter(regex=observatory),\n",
    "                    fig_size=(10, 5), font_size=10, label_size=14, plot_legend=False, obs=observatory, model_name='COV-OBS')"
   ]
  },
  {
   "cell_type": "markdown",
   "metadata": {},
   "source": [
    "# Plot proxy signal, eigenvalues and eigenvectors"
   ]
  },
  {
   "cell_type": "markdown",
   "metadata": {},
   "source": [
    "Compare the proxy signal used to denoise the data with the Dst index, measures the intensity of the equatorial electrojet (the \"ring current\"). Both signals are reduced to zero-mean and unit variance (z-score)."
   ]
  },
  {
   "cell_type": "code",
   "execution_count": null,
   "metadata": {
    "collapsed": true
   },
   "outputs": [],
   "source": [
    "dst_file = '/Users/gracecox/Dropbox/DataDownloads/Dst/dst_fdmm.csv'"
   ]
  },
  {
   "cell_type": "code",
   "execution_count": null,
   "metadata": {
    "collapsed": false,
    "scrolled": false
   },
   "outputs": [],
   "source": [
    "svplots.plot_index_dft(index_file=dst_file, dates=denoised.date, signal=proxy, fig_size=(10, 8), font_size=10,\n",
    "                       label_size=14, plot_legend=True, index_name='Dst')"
   ]
  },
  {
   "cell_type": "markdown",
   "metadata": {},
   "source": [
    "Plot the eigenvalues of the covariance matrix of the residuals"
   ]
  },
  {
   "cell_type": "code",
   "execution_count": null,
   "metadata": {
    "collapsed": false
   },
   "outputs": [],
   "source": [
    "svplots.plot_eigenvalues(values=eigenvals, font_size=12, label_size=16, fig_size=(8, 4))"
   ]
  },
  {
   "cell_type": "markdown",
   "metadata": {},
   "source": [
    "Plot the three eigenvectors corresponding to the three largest eigenvalues. The noisiest direction (used to denoise in this example) is mostly X, with some Z, which is consistent with the ring current for European observatories. The second noisiest direction (also used to denoise in this example) is predominantly Z, with some X, which is again consistent with rind current directions. However, the third noisiest direction is a coherent Y signal across Europe, which does not correspond to a known direction of external signal. We did not remove this direction during denoising as it could be a real internal field variation that is not captured by the field model."
   ]
  },
  {
   "cell_type": "code",
   "execution_count": null,
   "metadata": {
    "collapsed": false,
    "scrolled": false
   },
   "outputs": [],
   "source": [
    "svplots.plot_eigenvectors(obs_names=observatory_list, eigenvecs=eigenvecs[:,0:3], fig_size=(8, 4),\n",
    "                          font_size=10, label_size=16)"
   ]
  },
  {
   "cell_type": "markdown",
   "metadata": {},
   "source": [
    "# Outlier detection"
   ]
  },
  {
   "cell_type": "markdown",
   "metadata": {},
   "source": [
    "Remove remaining spikes in the time series."
   ]
  },
  {
   "cell_type": "code",
   "execution_count": null,
   "metadata": {
    "collapsed": false,
    "scrolled": false
   },
   "outputs": [],
   "source": [
    "denoised.drop(['date'], axis=1, inplace=True)\n",
    "for column in denoised:\n",
    "    denoised[column] = denoise.detect_outliers(dates=dates, signal=denoised[column], obs_name=column, threshold=5,\n",
    "                                               window_length=120, plot_fig=False, fig_size=(10, 3), font_size=10, label_size=14)\n",
    "denoised.insert(0, 'date', dates)"
   ]
  },
  {
   "cell_type": "markdown",
   "metadata": {},
   "source": [
    "# Write denoised data to file"
   ]
  },
  {
   "cell_type": "code",
   "execution_count": null,
   "metadata": {
    "collapsed": false
   },
   "outputs": [],
   "source": [
    "for observatory in observatory_list:\n",
    "    print(observatory)\n",
    "    sv_data=denoised.filter(regex=observatory)\n",
    "    sv_data.insert(0, 'date', dates)\n",
    "    sv_data.columns = [\"date\", \"dX\", \"dY\", \"dZ\"]\n",
    "    inputoutput.write_csv_data(data=sv_data, write_path=download_dir + '/denoised/european/',\n",
    "                               obs_name=observatory, decimal_dates=False)"
   ]
  },
  {
   "cell_type": "markdown",
   "metadata": {},
   "source": [
    "# Averaging data over Europe"
   ]
  },
  {
   "cell_type": "markdown",
   "metadata": {},
   "source": [
    "Select denoised data for each SV component at all observatories"
   ]
  },
  {
   "cell_type": "code",
   "execution_count": null,
   "metadata": {
    "collapsed": true
   },
   "outputs": [],
   "source": [
    "obs_X = denoised.filter(regex='dX')\n",
    "model_X = model_sv_data.filter(regex='dX')\n",
    "obs_Y = denoised.filter(regex='dY')\n",
    "model_Y = model_sv_data.filter(regex='dY')\n",
    "obs_Z = denoised.filter(regex='dZ')\n",
    "model_Z = model_sv_data.filter(regex='dZ')"
   ]
  },
  {
   "cell_type": "markdown",
   "metadata": {},
   "source": [
    "Average data and model for each component"
   ]
  },
  {
   "cell_type": "code",
   "execution_count": null,
   "metadata": {
    "collapsed": false
   },
   "outputs": [],
   "source": [
    "mean_X = pd.DataFrame(np.mean(obs_X.values, axis=1))\n",
    "mean_X.columns = ['dX']\n",
    "mean_model_X = np.mean(model_X, axis=1)\n",
    "mean_Y = pd.DataFrame(np.mean(obs_Y.values, axis=1))\n",
    "mean_Y.columns = ['dY']\n",
    "mean_model_Y = np.mean(model_Y, axis=1)\n",
    "mean_Z = pd.DataFrame(np.mean(obs_Z.values, axis=1))\n",
    "mean_Z.columns = ['dZ']\n",
    "mean_model_Z = np.mean(model_Z, axis=1)"
   ]
  },
  {
   "cell_type": "markdown",
   "metadata": {},
   "source": [
    "Remove outliers from averaged data"
   ]
  },
  {
   "cell_type": "code",
   "execution_count": null,
   "metadata": {
    "collapsed": false
   },
   "outputs": [],
   "source": [
    "mean_X = denoise.detect_outliers(dates=dates, signal=mean_X, obs_name='X', threshold=2.5,\n",
    "                                               window_length=72, plot_fig=False, fig_size=(10, 3), font_size=10, label_size=14)\n",
    "mean_Y = denoise.detect_outliers(dates=dates, signal=mean_Y, obs_name='Y', threshold=2.5,\n",
    "                                               window_length=72, plot_fig=False, fig_size=(10, 3), font_size=10, label_size=14)\n",
    "mean_Z = denoise.detect_outliers(dates=dates, signal=mean_Z, obs_name='Z', threshold=2.5,\n",
    "                                               window_length=72, plot_fig=False, fig_size=(10, 3), font_size=10, label_size=14)"
   ]
  },
  {
   "cell_type": "markdown",
   "metadata": {},
   "source": [
    "Look at model predictions for all observatories, and the averaged model, to see if the average is representative of the trend at all locations"
   ]
  },
  {
   "cell_type": "code",
   "execution_count": null,
   "metadata": {
    "collapsed": false
   },
   "outputs": [],
   "source": [
    "plt.figure(figsize=(10,7))\n",
    "plt.subplot(3, 1, 1)\n",
    "plt.plot(dates, model_X)\n",
    "plt.plot(dates, mean_model_X, 'k--')\n",
    "legend = model_X.columns.tolist()\n",
    "legend.append('Average')\n",
    "plt.legend(legend, frameon=False)\n",
    "plt.subplot(3, 1, 2)\n",
    "plt.plot(dates, model_Y)\n",
    "plt.plot(dates, mean_model_Y, 'k--')\n",
    "plt.ylabel('SV (nT/yr)',  fontsize=16)\n",
    "plt.subplot(3, 1, 3)\n",
    "plt.plot(dates, model_Z)\n",
    "plt.plot(dates, mean_model_Z, 'k--')\n",
    "plt.xlabel('Year',  fontsize=16)"
   ]
  },
  {
   "cell_type": "markdown",
   "metadata": {},
   "source": [
    "Plot the averaged data and model"
   ]
  },
  {
   "cell_type": "code",
   "execution_count": null,
   "metadata": {
    "collapsed": false,
    "scrolled": false
   },
   "outputs": [],
   "source": [
    "plt.figure(figsize=(10, 7))\n",
    "plt.subplot(3,1,1)\n",
    "plt.plot(dates, mean_X, 'b')\n",
    "plt.plot(dates, np.mean(model_X, axis=1), 'r')\n",
    "plt.subplot(3,1,2)\n",
    "plt.plot(dates, mean_Y, 'b')\n",
    "plt.plot(dates, np.mean(model_Y, axis=1), 'r')\n",
    "plt.ylabel('SV (nT/yr)', fontsize=16)\n",
    "plt.subplot(3,1,3)\n",
    "plt.plot(dates, mean_Z, 'b', label='Averaged data')\n",
    "plt.plot(dates, np.mean(model_Z, axis=1), 'r', label='Averaged COV-OBS')\n",
    "plt.xlabel('Year',  fontsize=16)\n",
    "plt.legend(loc='best', fontsize=10, frameon=False)"
   ]
  },
  {
   "cell_type": "code",
   "execution_count": null,
   "metadata": {
    "collapsed": false
   },
   "outputs": [],
   "source": [
    "plt.figure()\n",
    "#plt.gca().xaxis_date()\n",
    "plt.plot(denoised.date, mean_X, 'b')"
   ]
  },
  {
   "cell_type": "markdown",
   "metadata": {},
   "source": [
    "## Data selection using the ap index"
   ]
  },
  {
   "cell_type": "code",
   "execution_count": null,
   "metadata": {
    "collapsed": false
   },
   "outputs": [],
   "source": [
    "# Select an observatory\n",
    "observatory = 'CLF'\n",
    "data_file = observatory + '.csv'\n",
    "hourly_data = inputoutput.read_csv_data(\n",
    "    fname=os.path.join(download_dir + 'hourly/', data_file),\n",
    "    data_type='mf')\n",
    "# Correct documented baseline changes\n",
    "misc.correct_baseline_change(observatory=observatory,\n",
    "                      field_data=hourly_data,\n",
    "                      jump_data=baseline_data)\n",
    "# Apply an Ap criterion to discard noisy data\n",
    "hourly_data_ap = svtools.apply_Ap_threshold(obs_data=hourly_data, Ap_file='/Users/gracecox/Dropbox/DataDownloads/Kp_Ap/ap_hourly.csv',\n",
    "                               threshold=7.0)\n",
    "# Resample to monthly means\n",
    "resampled_field_data = svtools.data_resampling(hourly_data, sampling='MS', average_date=True)\n",
    "resampled_field_data_ap = svtools.data_resampling(hourly_data_ap, sampling='MS', average_date=True)\n",
    "# Calculate SV from monthly field means\n",
    "sv_data = svtools.calculate_sv(resampled_field_data,\n",
    "                               mean_spacing=1)\n",
    "sv_data_ap = svtools.calculate_sv(resampled_field_data_ap,\n",
    "                               mean_spacing=1)"
   ]
  },
  {
   "cell_type": "code",
   "execution_count": null,
   "metadata": {
    "collapsed": false
   },
   "outputs": [],
   "source": [
    "hourly_data"
   ]
  },
  {
   "cell_type": "code",
   "execution_count": null,
   "metadata": {
    "collapsed": false
   },
   "outputs": [],
   "source": [
    "d = hourly_data_ap.date\n",
    "hourly_data_ap.drop(['date'], axis=1, inplace=True)\n",
    "for column in hourly_data_ap:    \n",
    "    hourly_data_ap[column] = denoise.detect_outliers(dates=d, signal=hourly_data_ap[column], obs_name=column,\n",
    "                                               threshold=15,\n",
    "                                               window_length=2400, plot_fig=True, fig_size=(10,3))\n",
    "hourly_data_ap.insert(0, 'date', d)"
   ]
  },
  {
   "cell_type": "markdown",
   "metadata": {},
   "source": [
    "Calculate the percentage of data remaining after applying the threshold"
   ]
  },
  {
   "cell_type": "code",
   "execution_count": null,
   "metadata": {
    "collapsed": false
   },
   "outputs": [],
   "source": [
    "hourly_data_ap.X.count()#/hourly_data.X.count() * 100"
   ]
  },
  {
   "cell_type": "markdown",
   "metadata": {},
   "source": [
    "Compare the hourly magnetic field data before and after appyling the ap threshold"
   ]
  },
  {
   "cell_type": "code",
   "execution_count": null,
   "metadata": {
    "collapsed": false
   },
   "outputs": [],
   "source": [
    "plt.figure(figsize=(4, 9))\n",
    "plt.subplot(3, 1, 1)\n",
    "plt.plot(hourly_data.date, hourly_data.X, 'b')\n",
    "plt.plot(hourly_data.date, hourly_data_ap.X, 'r')\n",
    "plt.subplot(3, 1, 2)\n",
    "plt.plot(hourly_data.date, hourly_data.Y, 'b')\n",
    "plt.plot(hourly_data.date, hourly_data_ap.Y, 'r')\n",
    "plt.ylabel('Magnetic Field (nT)', fontsize=16)\n",
    "plt.subplot(3, 1, 3)\n",
    "plt.plot(hourly_data.date, hourly_data.Z, 'b', label='All data')\n",
    "plt.plot(hourly_data.date, hourly_data_ap.Z, 'r', label='ap < 7')\n",
    "plt.xlabel('Year', fontsize=16)\n",
    "plt.legend(frameon=False)\n",
    "plt.tight_layout()"
   ]
  },
  {
   "cell_type": "markdown",
   "metadata": {},
   "source": [
    "Compare the SV obtained when calculated using all hourly data and hourly the ap threshold applied"
   ]
  },
  {
   "cell_type": "code",
   "execution_count": null,
   "metadata": {
    "collapsed": false,
    "scrolled": false
   },
   "outputs": [],
   "source": [
    "plt.figure(figsize=(4, 12))\n",
    "plt.subplot(3, 1, 1)\n",
    "plt.plot(sv_data.date, sv_data.dx, 'b')\n",
    "plt.plot(sv_data_ap.date, sv_data_ap.dx, 'r')\n",
    "plt.subplot(3, 1, 2)\n",
    "plt.plot(sv_data.date, sv_data.dy, 'b')\n",
    "plt.plot(sv_data_ap.date, sv_data_ap.dy, 'r')\n",
    "plt.ylabel('SV (nT/yr)', fontsize=16)\n",
    "plt.subplot(3, 1, 3)\n",
    "plt.plot(sv_data.date, sv_data.dz, 'b', label='All data')\n",
    "plt.plot(sv_data.date, sv_data_ap.dz, 'r', label = 'ap < 7')\n",
    "plt.gca().xaxis_date()\n",
    "plt.ylabel('Year', fontsize=16)\n",
    "plt.legend(frameon=False)"
   ]
  },
  {
   "cell_type": "code",
   "execution_count": 5,
   "metadata": {
    "collapsed": false,
    "scrolled": false
   },
   "outputs": [
    {
     "data": {
      "text/html": [
       "<div>\n",
       "<table border=\"1\" class=\"dataframe\">\n",
       "  <thead>\n",
       "    <tr style=\"text-align: right;\">\n",
       "      <th></th>\n",
       "      <th>date</th>\n",
       "      <th>hourly_mean</th>\n",
       "    </tr>\n",
       "  </thead>\n",
       "  <tbody>\n",
       "    <tr>\n",
       "      <th>0</th>\n",
       "      <td>1957-07-01 00:30:00</td>\n",
       "      <td>1138.0</td>\n",
       "    </tr>\n",
       "    <tr>\n",
       "      <th>1</th>\n",
       "      <td>1957-07-01 01:30:00</td>\n",
       "      <td>1278.0</td>\n",
       "    </tr>\n",
       "    <tr>\n",
       "      <th>2</th>\n",
       "      <td>1957-07-01 02:30:00</td>\n",
       "      <td>1270.0</td>\n",
       "    </tr>\n",
       "    <tr>\n",
       "      <th>3</th>\n",
       "      <td>1957-07-01 03:30:00</td>\n",
       "      <td>1048.0</td>\n",
       "    </tr>\n",
       "    <tr>\n",
       "      <th>4</th>\n",
       "      <td>1957-07-01 04:30:00</td>\n",
       "      <td>1150.0</td>\n",
       "    </tr>\n",
       "    <tr>\n",
       "      <th>5</th>\n",
       "      <td>1957-07-01 05:30:00</td>\n",
       "      <td>1304.0</td>\n",
       "    </tr>\n",
       "    <tr>\n",
       "      <th>6</th>\n",
       "      <td>1957-07-01 06:30:00</td>\n",
       "      <td>796.0</td>\n",
       "    </tr>\n",
       "    <tr>\n",
       "      <th>7</th>\n",
       "      <td>1957-07-01 07:30:00</td>\n",
       "      <td>724.0</td>\n",
       "    </tr>\n",
       "    <tr>\n",
       "      <th>8</th>\n",
       "      <td>1957-07-01 08:30:00</td>\n",
       "      <td>931.0</td>\n",
       "    </tr>\n",
       "    <tr>\n",
       "      <th>9</th>\n",
       "      <td>1957-07-01 09:30:00</td>\n",
       "      <td>175.0</td>\n",
       "    </tr>\n",
       "    <tr>\n",
       "      <th>10</th>\n",
       "      <td>1957-07-01 10:30:00</td>\n",
       "      <td>67.0</td>\n",
       "    </tr>\n",
       "    <tr>\n",
       "      <th>11</th>\n",
       "      <td>1957-07-01 11:30:00</td>\n",
       "      <td>65.0</td>\n",
       "    </tr>\n",
       "    <tr>\n",
       "      <th>12</th>\n",
       "      <td>1957-07-01 12:30:00</td>\n",
       "      <td>72.0</td>\n",
       "    </tr>\n",
       "    <tr>\n",
       "      <th>13</th>\n",
       "      <td>1957-07-01 13:30:00</td>\n",
       "      <td>63.0</td>\n",
       "    </tr>\n",
       "    <tr>\n",
       "      <th>14</th>\n",
       "      <td>1957-07-01 14:30:00</td>\n",
       "      <td>75.0</td>\n",
       "    </tr>\n",
       "    <tr>\n",
       "      <th>15</th>\n",
       "      <td>1957-07-01 15:30:00</td>\n",
       "      <td>47.0</td>\n",
       "    </tr>\n",
       "    <tr>\n",
       "      <th>16</th>\n",
       "      <td>1957-07-01 16:30:00</td>\n",
       "      <td>47.0</td>\n",
       "    </tr>\n",
       "    <tr>\n",
       "      <th>17</th>\n",
       "      <td>1957-07-01 17:30:00</td>\n",
       "      <td>68.0</td>\n",
       "    </tr>\n",
       "    <tr>\n",
       "      <th>18</th>\n",
       "      <td>1957-07-01 18:30:00</td>\n",
       "      <td>215.0</td>\n",
       "    </tr>\n",
       "    <tr>\n",
       "      <th>19</th>\n",
       "      <td>1957-07-01 19:30:00</td>\n",
       "      <td>217.0</td>\n",
       "    </tr>\n",
       "    <tr>\n",
       "      <th>20</th>\n",
       "      <td>1957-07-01 20:30:00</td>\n",
       "      <td>219.0</td>\n",
       "    </tr>\n",
       "    <tr>\n",
       "      <th>21</th>\n",
       "      <td>1957-07-01 21:30:00</td>\n",
       "      <td>71.0</td>\n",
       "    </tr>\n",
       "    <tr>\n",
       "      <th>22</th>\n",
       "      <td>1957-07-01 22:30:00</td>\n",
       "      <td>46.0</td>\n",
       "    </tr>\n",
       "    <tr>\n",
       "      <th>23</th>\n",
       "      <td>1957-07-01 23:30:00</td>\n",
       "      <td>51.0</td>\n",
       "    </tr>\n",
       "    <tr>\n",
       "      <th>24</th>\n",
       "      <td>1957-07-02 00:30:00</td>\n",
       "      <td>84.0</td>\n",
       "    </tr>\n",
       "    <tr>\n",
       "      <th>25</th>\n",
       "      <td>1957-07-02 01:30:00</td>\n",
       "      <td>75.0</td>\n",
       "    </tr>\n",
       "    <tr>\n",
       "      <th>26</th>\n",
       "      <td>1957-07-02 02:30:00</td>\n",
       "      <td>65.0</td>\n",
       "    </tr>\n",
       "    <tr>\n",
       "      <th>27</th>\n",
       "      <td>1957-07-02 03:30:00</td>\n",
       "      <td>58.0</td>\n",
       "    </tr>\n",
       "    <tr>\n",
       "      <th>28</th>\n",
       "      <td>1957-07-02 04:30:00</td>\n",
       "      <td>52.0</td>\n",
       "    </tr>\n",
       "    <tr>\n",
       "      <th>29</th>\n",
       "      <td>1957-07-02 05:30:00</td>\n",
       "      <td>37.0</td>\n",
       "    </tr>\n",
       "    <tr>\n",
       "      <th>...</th>\n",
       "      <td>...</td>\n",
       "      <td>...</td>\n",
       "    </tr>\n",
       "    <tr>\n",
       "      <th>491610</th>\n",
       "      <td>2016-12-30 18:30:00</td>\n",
       "      <td>90.0</td>\n",
       "    </tr>\n",
       "    <tr>\n",
       "      <th>491611</th>\n",
       "      <td>2016-12-30 19:30:00</td>\n",
       "      <td>55.0</td>\n",
       "    </tr>\n",
       "    <tr>\n",
       "      <th>491612</th>\n",
       "      <td>2016-12-30 20:30:00</td>\n",
       "      <td>42.0</td>\n",
       "    </tr>\n",
       "    <tr>\n",
       "      <th>491613</th>\n",
       "      <td>2016-12-30 21:30:00</td>\n",
       "      <td>35.0</td>\n",
       "    </tr>\n",
       "    <tr>\n",
       "      <th>491614</th>\n",
       "      <td>2016-12-30 22:30:00</td>\n",
       "      <td>41.0</td>\n",
       "    </tr>\n",
       "    <tr>\n",
       "      <th>491615</th>\n",
       "      <td>2016-12-30 23:30:00</td>\n",
       "      <td>52.0</td>\n",
       "    </tr>\n",
       "    <tr>\n",
       "      <th>491616</th>\n",
       "      <td>2016-12-31 00:30:00</td>\n",
       "      <td>50.0</td>\n",
       "    </tr>\n",
       "    <tr>\n",
       "      <th>491617</th>\n",
       "      <td>2016-12-31 01:30:00</td>\n",
       "      <td>57.0</td>\n",
       "    </tr>\n",
       "    <tr>\n",
       "      <th>491618</th>\n",
       "      <td>2016-12-31 02:30:00</td>\n",
       "      <td>61.0</td>\n",
       "    </tr>\n",
       "    <tr>\n",
       "      <th>491619</th>\n",
       "      <td>2016-12-31 03:30:00</td>\n",
       "      <td>59.0</td>\n",
       "    </tr>\n",
       "    <tr>\n",
       "      <th>491620</th>\n",
       "      <td>2016-12-31 04:30:00</td>\n",
       "      <td>60.0</td>\n",
       "    </tr>\n",
       "    <tr>\n",
       "      <th>491621</th>\n",
       "      <td>2016-12-31 05:30:00</td>\n",
       "      <td>63.0</td>\n",
       "    </tr>\n",
       "    <tr>\n",
       "      <th>491622</th>\n",
       "      <td>2016-12-31 06:30:00</td>\n",
       "      <td>60.0</td>\n",
       "    </tr>\n",
       "    <tr>\n",
       "      <th>491623</th>\n",
       "      <td>2016-12-31 07:30:00</td>\n",
       "      <td>80.0</td>\n",
       "    </tr>\n",
       "    <tr>\n",
       "      <th>491624</th>\n",
       "      <td>2016-12-31 08:30:00</td>\n",
       "      <td>97.0</td>\n",
       "    </tr>\n",
       "    <tr>\n",
       "      <th>491625</th>\n",
       "      <td>2016-12-31 09:30:00</td>\n",
       "      <td>129.0</td>\n",
       "    </tr>\n",
       "    <tr>\n",
       "      <th>491626</th>\n",
       "      <td>2016-12-31 10:30:00</td>\n",
       "      <td>421.0</td>\n",
       "    </tr>\n",
       "    <tr>\n",
       "      <th>491627</th>\n",
       "      <td>2016-12-31 11:30:00</td>\n",
       "      <td>483.0</td>\n",
       "    </tr>\n",
       "    <tr>\n",
       "      <th>491628</th>\n",
       "      <td>2016-12-31 12:30:00</td>\n",
       "      <td>394.0</td>\n",
       "    </tr>\n",
       "    <tr>\n",
       "      <th>491629</th>\n",
       "      <td>2016-12-31 13:30:00</td>\n",
       "      <td>500.0</td>\n",
       "    </tr>\n",
       "    <tr>\n",
       "      <th>491630</th>\n",
       "      <td>2016-12-31 14:30:00</td>\n",
       "      <td>343.0</td>\n",
       "    </tr>\n",
       "    <tr>\n",
       "      <th>491631</th>\n",
       "      <td>2016-12-31 15:30:00</td>\n",
       "      <td>559.0</td>\n",
       "    </tr>\n",
       "    <tr>\n",
       "      <th>491632</th>\n",
       "      <td>2016-12-31 16:30:00</td>\n",
       "      <td>507.0</td>\n",
       "    </tr>\n",
       "    <tr>\n",
       "      <th>491633</th>\n",
       "      <td>2016-12-31 17:30:00</td>\n",
       "      <td>493.0</td>\n",
       "    </tr>\n",
       "    <tr>\n",
       "      <th>491634</th>\n",
       "      <td>2016-12-31 18:30:00</td>\n",
       "      <td>452.0</td>\n",
       "    </tr>\n",
       "    <tr>\n",
       "      <th>491635</th>\n",
       "      <td>2016-12-31 19:30:00</td>\n",
       "      <td>457.0</td>\n",
       "    </tr>\n",
       "    <tr>\n",
       "      <th>491636</th>\n",
       "      <td>2016-12-31 20:30:00</td>\n",
       "      <td>466.0</td>\n",
       "    </tr>\n",
       "    <tr>\n",
       "      <th>491637</th>\n",
       "      <td>2016-12-31 21:30:00</td>\n",
       "      <td>255.0</td>\n",
       "    </tr>\n",
       "    <tr>\n",
       "      <th>491638</th>\n",
       "      <td>2016-12-31 22:30:00</td>\n",
       "      <td>171.0</td>\n",
       "    </tr>\n",
       "    <tr>\n",
       "      <th>491639</th>\n",
       "      <td>2016-12-31 23:30:00</td>\n",
       "      <td>102.0</td>\n",
       "    </tr>\n",
       "  </tbody>\n",
       "</table>\n",
       "<p>491640 rows × 2 columns</p>\n",
       "</div>"
      ],
      "text/plain": [
       "                      date  hourly_mean\n",
       "0      1957-07-01 00:30:00       1138.0\n",
       "1      1957-07-01 01:30:00       1278.0\n",
       "2      1957-07-01 02:30:00       1270.0\n",
       "3      1957-07-01 03:30:00       1048.0\n",
       "4      1957-07-01 04:30:00       1150.0\n",
       "5      1957-07-01 05:30:00       1304.0\n",
       "6      1957-07-01 06:30:00        796.0\n",
       "7      1957-07-01 07:30:00        724.0\n",
       "8      1957-07-01 08:30:00        931.0\n",
       "9      1957-07-01 09:30:00        175.0\n",
       "10     1957-07-01 10:30:00         67.0\n",
       "11     1957-07-01 11:30:00         65.0\n",
       "12     1957-07-01 12:30:00         72.0\n",
       "13     1957-07-01 13:30:00         63.0\n",
       "14     1957-07-01 14:30:00         75.0\n",
       "15     1957-07-01 15:30:00         47.0\n",
       "16     1957-07-01 16:30:00         47.0\n",
       "17     1957-07-01 17:30:00         68.0\n",
       "18     1957-07-01 18:30:00        215.0\n",
       "19     1957-07-01 19:30:00        217.0\n",
       "20     1957-07-01 20:30:00        219.0\n",
       "21     1957-07-01 21:30:00         71.0\n",
       "22     1957-07-01 22:30:00         46.0\n",
       "23     1957-07-01 23:30:00         51.0\n",
       "24     1957-07-02 00:30:00         84.0\n",
       "25     1957-07-02 01:30:00         75.0\n",
       "26     1957-07-02 02:30:00         65.0\n",
       "27     1957-07-02 03:30:00         58.0\n",
       "28     1957-07-02 04:30:00         52.0\n",
       "29     1957-07-02 05:30:00         37.0\n",
       "...                    ...          ...\n",
       "491610 2016-12-30 18:30:00         90.0\n",
       "491611 2016-12-30 19:30:00         55.0\n",
       "491612 2016-12-30 20:30:00         42.0\n",
       "491613 2016-12-30 21:30:00         35.0\n",
       "491614 2016-12-30 22:30:00         41.0\n",
       "491615 2016-12-30 23:30:00         52.0\n",
       "491616 2016-12-31 00:30:00         50.0\n",
       "491617 2016-12-31 01:30:00         57.0\n",
       "491618 2016-12-31 02:30:00         61.0\n",
       "491619 2016-12-31 03:30:00         59.0\n",
       "491620 2016-12-31 04:30:00         60.0\n",
       "491621 2016-12-31 05:30:00         63.0\n",
       "491622 2016-12-31 06:30:00         60.0\n",
       "491623 2016-12-31 07:30:00         80.0\n",
       "491624 2016-12-31 08:30:00         97.0\n",
       "491625 2016-12-31 09:30:00        129.0\n",
       "491626 2016-12-31 10:30:00        421.0\n",
       "491627 2016-12-31 11:30:00        483.0\n",
       "491628 2016-12-31 12:30:00        394.0\n",
       "491629 2016-12-31 13:30:00        500.0\n",
       "491630 2016-12-31 14:30:00        343.0\n",
       "491631 2016-12-31 15:30:00        559.0\n",
       "491632 2016-12-31 16:30:00        507.0\n",
       "491633 2016-12-31 17:30:00        493.0\n",
       "491634 2016-12-31 18:30:00        452.0\n",
       "491635 2016-12-31 19:30:00        457.0\n",
       "491636 2016-12-31 20:30:00        466.0\n",
       "491637 2016-12-31 21:30:00        255.0\n",
       "491638 2016-12-31 22:30:00        171.0\n",
       "491639 2016-12-31 23:30:00        102.0\n",
       "\n",
       "[491640 rows x 2 columns]"
      ]
     },
     "execution_count": 5,
     "metadata": {},
     "output_type": "execute_result"
    }
   ],
   "source": [
    "inputoutput.ae_readfile('/Users/gracecox/Dropbox/DataDownloads/AE/AE_kyoto_raw')"
   ]
  },
  {
   "cell_type": "code",
   "execution_count": 4,
   "metadata": {
    "collapsed": false,
    "scrolled": false
   },
   "outputs": [
    {
     "name": "stdout",
     "output_type": "stream",
     "text": [
      "/Users/gracecox/Dropbox/ae_index/HOURLY/ae_1957_hourly.txt\n",
      "/Users/gracecox/Dropbox/ae_index/HOURLY/ae_1958_hourly.txt\n",
      "/Users/gracecox/Dropbox/ae_index/HOURLY/ae_1959_hourly.txt\n",
      "/Users/gracecox/Dropbox/ae_index/HOURLY/ae_1960_hourly.txt\n",
      "/Users/gracecox/Dropbox/ae_index/HOURLY/ae_1961_hourly.txt\n",
      "/Users/gracecox/Dropbox/ae_index/HOURLY/ae_1962_hourly.txt\n",
      "/Users/gracecox/Dropbox/ae_index/HOURLY/ae_1963_hourly.txt\n",
      "/Users/gracecox/Dropbox/ae_index/HOURLY/ae_1964_hourly.txt\n",
      "/Users/gracecox/Dropbox/ae_index/HOURLY/ae_1965_hourly.txt\n",
      "/Users/gracecox/Dropbox/ae_index/HOURLY/ae_1966_hourly.txt\n",
      "/Users/gracecox/Dropbox/ae_index/HOURLY/ae_1967_hourly.txt\n",
      "/Users/gracecox/Dropbox/ae_index/HOURLY/ae_1968_hourly.txt\n",
      "/Users/gracecox/Dropbox/ae_index/HOURLY/ae_1969_hourly.txt\n",
      "/Users/gracecox/Dropbox/ae_index/HOURLY/ae_1970_hourly.txt\n",
      "/Users/gracecox/Dropbox/ae_index/HOURLY/ae_1971_hourly.txt\n",
      "/Users/gracecox/Dropbox/ae_index/HOURLY/ae_1972_hourly.txt\n",
      "/Users/gracecox/Dropbox/ae_index/HOURLY/ae_1973_hourly.txt\n",
      "/Users/gracecox/Dropbox/ae_index/HOURLY/ae_1974_hourly.txt\n",
      "/Users/gracecox/Dropbox/ae_index/HOURLY/ae_1975_hourly.txt\n",
      "/Users/gracecox/Dropbox/ae_index/HOURLY/ae_1978_hourly.txt\n",
      "/Users/gracecox/Dropbox/ae_index/HOURLY/ae_1979_hourly.txt\n",
      "/Users/gracecox/Dropbox/ae_index/HOURLY/ae_1980_hourly.txt\n",
      "/Users/gracecox/Dropbox/ae_index/HOURLY/ae_1981_hourly.txt\n",
      "/Users/gracecox/Dropbox/ae_index/HOURLY/ae_1982_hourly.txt\n",
      "/Users/gracecox/Dropbox/ae_index/HOURLY/ae_1983_hourly.txt\n",
      "/Users/gracecox/Dropbox/ae_index/HOURLY/ae_1984_hourly.txt\n",
      "/Users/gracecox/Dropbox/ae_index/HOURLY/ae_1985_hourly.txt\n",
      "/Users/gracecox/Dropbox/ae_index/HOURLY/ae_1986_hourly.txt\n",
      "/Users/gracecox/Dropbox/ae_index/HOURLY/ae_1987_hourly.txt\n",
      "/Users/gracecox/Dropbox/ae_index/HOURLY/ae_1988_hourly.txt\n",
      "/Users/gracecox/Dropbox/ae_index/HOURLY/ae_1989_hourly.txt\n",
      "/Users/gracecox/Dropbox/ae_index/HOURLY/ae_1990_hourly.txt\n",
      "/Users/gracecox/Dropbox/ae_index/HOURLY/ae_1991_hourly.txt\n",
      "/Users/gracecox/Dropbox/ae_index/HOURLY/ae_1992_hourly.txt\n",
      "/Users/gracecox/Dropbox/ae_index/HOURLY/ae_1993_hourly.txt\n",
      "/Users/gracecox/Dropbox/ae_index/HOURLY/ae_1994_hourly.txt\n",
      "/Users/gracecox/Dropbox/ae_index/HOURLY/ae_1995_hourly.txt\n",
      "/Users/gracecox/Dropbox/ae_index/HOURLY/ae_1996_hourly.txt\n",
      "/Users/gracecox/Dropbox/ae_index/HOURLY/ae_1997_hourly.txt\n",
      "/Users/gracecox/Dropbox/ae_index/HOURLY/ae_1998_hourly.txt\n",
      "/Users/gracecox/Dropbox/ae_index/HOURLY/ae_1999_hourly.txt\n",
      "/Users/gracecox/Dropbox/ae_index/HOURLY/ae_2000_hourly.txt\n",
      "/Users/gracecox/Dropbox/ae_index/HOURLY/ae_2001_hourly.txt\n",
      "/Users/gracecox/Dropbox/ae_index/HOURLY/ae_2002_hourly.txt\n",
      "/Users/gracecox/Dropbox/ae_index/HOURLY/ae_2003_hourly.txt\n",
      "/Users/gracecox/Dropbox/ae_index/HOURLY/ae_2004_hourly.txt\n",
      "/Users/gracecox/Dropbox/ae_index/HOURLY/ae_2005_hourly.txt\n",
      "/Users/gracecox/Dropbox/ae_index/HOURLY/ae_2006_hourly.txt\n",
      "/Users/gracecox/Dropbox/ae_index/HOURLY/ae_2007_hourly.txt\n",
      "/Users/gracecox/Dropbox/ae_index/HOURLY/ae_2008_hourly.txt\n",
      "/Users/gracecox/Dropbox/ae_index/HOURLY/ae_2009_hourly.txt\n",
      "/Users/gracecox/Dropbox/ae_index/HOURLY/ae_2010_hourly.txt\n",
      "/Users/gracecox/Dropbox/ae_index/HOURLY/ae_2011_hourly.txt\n"
     ]
    },
    {
     "data": {
      "text/html": [
       "<div>\n",
       "<table border=\"1\" class=\"dataframe\">\n",
       "  <thead>\n",
       "    <tr style=\"text-align: right;\">\n",
       "      <th></th>\n",
       "      <th>date</th>\n",
       "      <th>hourly_mean</th>\n",
       "    </tr>\n",
       "  </thead>\n",
       "  <tbody>\n",
       "    <tr>\n",
       "      <th>0</th>\n",
       "      <td>1957-07-01 00:30:00</td>\n",
       "      <td>1138.0</td>\n",
       "    </tr>\n",
       "    <tr>\n",
       "      <th>1</th>\n",
       "      <td>1957-07-01 01:30:00</td>\n",
       "      <td>1278.0</td>\n",
       "    </tr>\n",
       "    <tr>\n",
       "      <th>2</th>\n",
       "      <td>1957-07-01 02:30:00</td>\n",
       "      <td>1270.0</td>\n",
       "    </tr>\n",
       "    <tr>\n",
       "      <th>3</th>\n",
       "      <td>1957-07-01 03:30:00</td>\n",
       "      <td>1048.0</td>\n",
       "    </tr>\n",
       "    <tr>\n",
       "      <th>4</th>\n",
       "      <td>1957-07-01 04:30:00</td>\n",
       "      <td>1150.0</td>\n",
       "    </tr>\n",
       "    <tr>\n",
       "      <th>5</th>\n",
       "      <td>1957-07-01 05:30:00</td>\n",
       "      <td>1304.0</td>\n",
       "    </tr>\n",
       "    <tr>\n",
       "      <th>6</th>\n",
       "      <td>1957-07-01 06:30:00</td>\n",
       "      <td>796.0</td>\n",
       "    </tr>\n",
       "    <tr>\n",
       "      <th>7</th>\n",
       "      <td>1957-07-01 07:30:00</td>\n",
       "      <td>724.0</td>\n",
       "    </tr>\n",
       "    <tr>\n",
       "      <th>8</th>\n",
       "      <td>1957-07-01 08:30:00</td>\n",
       "      <td>931.0</td>\n",
       "    </tr>\n",
       "    <tr>\n",
       "      <th>9</th>\n",
       "      <td>1957-07-01 09:30:00</td>\n",
       "      <td>175.0</td>\n",
       "    </tr>\n",
       "    <tr>\n",
       "      <th>10</th>\n",
       "      <td>1957-07-01 10:30:00</td>\n",
       "      <td>67.0</td>\n",
       "    </tr>\n",
       "    <tr>\n",
       "      <th>11</th>\n",
       "      <td>1957-07-01 11:30:00</td>\n",
       "      <td>65.0</td>\n",
       "    </tr>\n",
       "    <tr>\n",
       "      <th>12</th>\n",
       "      <td>1957-07-01 12:30:00</td>\n",
       "      <td>72.0</td>\n",
       "    </tr>\n",
       "    <tr>\n",
       "      <th>13</th>\n",
       "      <td>1957-07-01 13:30:00</td>\n",
       "      <td>63.0</td>\n",
       "    </tr>\n",
       "    <tr>\n",
       "      <th>14</th>\n",
       "      <td>1957-07-01 14:30:00</td>\n",
       "      <td>75.0</td>\n",
       "    </tr>\n",
       "    <tr>\n",
       "      <th>15</th>\n",
       "      <td>1957-07-01 15:30:00</td>\n",
       "      <td>47.0</td>\n",
       "    </tr>\n",
       "    <tr>\n",
       "      <th>16</th>\n",
       "      <td>1957-07-01 16:30:00</td>\n",
       "      <td>47.0</td>\n",
       "    </tr>\n",
       "    <tr>\n",
       "      <th>17</th>\n",
       "      <td>1957-07-01 17:30:00</td>\n",
       "      <td>68.0</td>\n",
       "    </tr>\n",
       "    <tr>\n",
       "      <th>18</th>\n",
       "      <td>1957-07-01 18:30:00</td>\n",
       "      <td>215.0</td>\n",
       "    </tr>\n",
       "    <tr>\n",
       "      <th>19</th>\n",
       "      <td>1957-07-01 19:30:00</td>\n",
       "      <td>217.0</td>\n",
       "    </tr>\n",
       "    <tr>\n",
       "      <th>20</th>\n",
       "      <td>1957-07-01 20:30:00</td>\n",
       "      <td>219.0</td>\n",
       "    </tr>\n",
       "    <tr>\n",
       "      <th>21</th>\n",
       "      <td>1957-07-01 21:30:00</td>\n",
       "      <td>71.0</td>\n",
       "    </tr>\n",
       "    <tr>\n",
       "      <th>22</th>\n",
       "      <td>1957-07-01 22:30:00</td>\n",
       "      <td>46.0</td>\n",
       "    </tr>\n",
       "    <tr>\n",
       "      <th>23</th>\n",
       "      <td>1957-07-01 23:30:00</td>\n",
       "      <td>51.0</td>\n",
       "    </tr>\n",
       "    <tr>\n",
       "      <th>24</th>\n",
       "      <td>1957-07-02 00:30:00</td>\n",
       "      <td>84.0</td>\n",
       "    </tr>\n",
       "    <tr>\n",
       "      <th>25</th>\n",
       "      <td>1957-07-02 01:30:00</td>\n",
       "      <td>75.0</td>\n",
       "    </tr>\n",
       "    <tr>\n",
       "      <th>26</th>\n",
       "      <td>1957-07-02 02:30:00</td>\n",
       "      <td>65.0</td>\n",
       "    </tr>\n",
       "    <tr>\n",
       "      <th>27</th>\n",
       "      <td>1957-07-02 03:30:00</td>\n",
       "      <td>58.0</td>\n",
       "    </tr>\n",
       "    <tr>\n",
       "      <th>28</th>\n",
       "      <td>1957-07-02 04:30:00</td>\n",
       "      <td>52.0</td>\n",
       "    </tr>\n",
       "    <tr>\n",
       "      <th>29</th>\n",
       "      <td>1957-07-02 05:30:00</td>\n",
       "      <td>37.0</td>\n",
       "    </tr>\n",
       "    <tr>\n",
       "      <th>...</th>\n",
       "      <td>...</td>\n",
       "      <td>...</td>\n",
       "    </tr>\n",
       "    <tr>\n",
       "      <th>447762</th>\n",
       "      <td>2011-12-30 18:30:00</td>\n",
       "      <td>323.0</td>\n",
       "    </tr>\n",
       "    <tr>\n",
       "      <th>447763</th>\n",
       "      <td>2011-12-30 19:30:00</td>\n",
       "      <td>192.0</td>\n",
       "    </tr>\n",
       "    <tr>\n",
       "      <th>447764</th>\n",
       "      <td>2011-12-30 20:30:00</td>\n",
       "      <td>61.0</td>\n",
       "    </tr>\n",
       "    <tr>\n",
       "      <th>447765</th>\n",
       "      <td>2011-12-30 21:30:00</td>\n",
       "      <td>48.0</td>\n",
       "    </tr>\n",
       "    <tr>\n",
       "      <th>447766</th>\n",
       "      <td>2011-12-30 22:30:00</td>\n",
       "      <td>83.0</td>\n",
       "    </tr>\n",
       "    <tr>\n",
       "      <th>447767</th>\n",
       "      <td>2011-12-30 23:30:00</td>\n",
       "      <td>242.0</td>\n",
       "    </tr>\n",
       "    <tr>\n",
       "      <th>447768</th>\n",
       "      <td>2011-12-31 00:30:00</td>\n",
       "      <td>249.0</td>\n",
       "    </tr>\n",
       "    <tr>\n",
       "      <th>447769</th>\n",
       "      <td>2011-12-31 01:30:00</td>\n",
       "      <td>133.0</td>\n",
       "    </tr>\n",
       "    <tr>\n",
       "      <th>447770</th>\n",
       "      <td>2011-12-31 02:30:00</td>\n",
       "      <td>64.0</td>\n",
       "    </tr>\n",
       "    <tr>\n",
       "      <th>447771</th>\n",
       "      <td>2011-12-31 03:30:00</td>\n",
       "      <td>123.0</td>\n",
       "    </tr>\n",
       "    <tr>\n",
       "      <th>447772</th>\n",
       "      <td>2011-12-31 04:30:00</td>\n",
       "      <td>56.0</td>\n",
       "    </tr>\n",
       "    <tr>\n",
       "      <th>447773</th>\n",
       "      <td>2011-12-31 05:30:00</td>\n",
       "      <td>31.0</td>\n",
       "    </tr>\n",
       "    <tr>\n",
       "      <th>447774</th>\n",
       "      <td>2011-12-31 06:30:00</td>\n",
       "      <td>50.0</td>\n",
       "    </tr>\n",
       "    <tr>\n",
       "      <th>447775</th>\n",
       "      <td>2011-12-31 07:30:00</td>\n",
       "      <td>82.0</td>\n",
       "    </tr>\n",
       "    <tr>\n",
       "      <th>447776</th>\n",
       "      <td>2011-12-31 08:30:00</td>\n",
       "      <td>143.0</td>\n",
       "    </tr>\n",
       "    <tr>\n",
       "      <th>447777</th>\n",
       "      <td>2011-12-31 09:30:00</td>\n",
       "      <td>134.0</td>\n",
       "    </tr>\n",
       "    <tr>\n",
       "      <th>447778</th>\n",
       "      <td>2011-12-31 10:30:00</td>\n",
       "      <td>62.0</td>\n",
       "    </tr>\n",
       "    <tr>\n",
       "      <th>447779</th>\n",
       "      <td>2011-12-31 11:30:00</td>\n",
       "      <td>43.0</td>\n",
       "    </tr>\n",
       "    <tr>\n",
       "      <th>447780</th>\n",
       "      <td>2011-12-31 12:30:00</td>\n",
       "      <td>44.0</td>\n",
       "    </tr>\n",
       "    <tr>\n",
       "      <th>447781</th>\n",
       "      <td>2011-12-31 13:30:00</td>\n",
       "      <td>27.0</td>\n",
       "    </tr>\n",
       "    <tr>\n",
       "      <th>447782</th>\n",
       "      <td>2011-12-31 14:30:00</td>\n",
       "      <td>28.0</td>\n",
       "    </tr>\n",
       "    <tr>\n",
       "      <th>447783</th>\n",
       "      <td>2011-12-31 15:30:00</td>\n",
       "      <td>35.0</td>\n",
       "    </tr>\n",
       "    <tr>\n",
       "      <th>447784</th>\n",
       "      <td>2011-12-31 16:30:00</td>\n",
       "      <td>25.0</td>\n",
       "    </tr>\n",
       "    <tr>\n",
       "      <th>447785</th>\n",
       "      <td>2011-12-31 17:30:00</td>\n",
       "      <td>31.0</td>\n",
       "    </tr>\n",
       "    <tr>\n",
       "      <th>447786</th>\n",
       "      <td>2011-12-31 18:30:00</td>\n",
       "      <td>160.0</td>\n",
       "    </tr>\n",
       "    <tr>\n",
       "      <th>447787</th>\n",
       "      <td>2011-12-31 19:30:00</td>\n",
       "      <td>153.0</td>\n",
       "    </tr>\n",
       "    <tr>\n",
       "      <th>447788</th>\n",
       "      <td>2011-12-31 20:30:00</td>\n",
       "      <td>25.0</td>\n",
       "    </tr>\n",
       "    <tr>\n",
       "      <th>447789</th>\n",
       "      <td>2011-12-31 21:30:00</td>\n",
       "      <td>25.0</td>\n",
       "    </tr>\n",
       "    <tr>\n",
       "      <th>447790</th>\n",
       "      <td>2011-12-31 22:30:00</td>\n",
       "      <td>52.0</td>\n",
       "    </tr>\n",
       "    <tr>\n",
       "      <th>447791</th>\n",
       "      <td>2011-12-31 23:30:00</td>\n",
       "      <td>162.0</td>\n",
       "    </tr>\n",
       "  </tbody>\n",
       "</table>\n",
       "<p>447792 rows × 2 columns</p>\n",
       "</div>"
      ],
      "text/plain": [
       "                      date  hourly_mean\n",
       "0      1957-07-01 00:30:00       1138.0\n",
       "1      1957-07-01 01:30:00       1278.0\n",
       "2      1957-07-01 02:30:00       1270.0\n",
       "3      1957-07-01 03:30:00       1048.0\n",
       "4      1957-07-01 04:30:00       1150.0\n",
       "5      1957-07-01 05:30:00       1304.0\n",
       "6      1957-07-01 06:30:00        796.0\n",
       "7      1957-07-01 07:30:00        724.0\n",
       "8      1957-07-01 08:30:00        931.0\n",
       "9      1957-07-01 09:30:00        175.0\n",
       "10     1957-07-01 10:30:00         67.0\n",
       "11     1957-07-01 11:30:00         65.0\n",
       "12     1957-07-01 12:30:00         72.0\n",
       "13     1957-07-01 13:30:00         63.0\n",
       "14     1957-07-01 14:30:00         75.0\n",
       "15     1957-07-01 15:30:00         47.0\n",
       "16     1957-07-01 16:30:00         47.0\n",
       "17     1957-07-01 17:30:00         68.0\n",
       "18     1957-07-01 18:30:00        215.0\n",
       "19     1957-07-01 19:30:00        217.0\n",
       "20     1957-07-01 20:30:00        219.0\n",
       "21     1957-07-01 21:30:00         71.0\n",
       "22     1957-07-01 22:30:00         46.0\n",
       "23     1957-07-01 23:30:00         51.0\n",
       "24     1957-07-02 00:30:00         84.0\n",
       "25     1957-07-02 01:30:00         75.0\n",
       "26     1957-07-02 02:30:00         65.0\n",
       "27     1957-07-02 03:30:00         58.0\n",
       "28     1957-07-02 04:30:00         52.0\n",
       "29     1957-07-02 05:30:00         37.0\n",
       "...                    ...          ...\n",
       "447762 2011-12-30 18:30:00        323.0\n",
       "447763 2011-12-30 19:30:00        192.0\n",
       "447764 2011-12-30 20:30:00         61.0\n",
       "447765 2011-12-30 21:30:00         48.0\n",
       "447766 2011-12-30 22:30:00         83.0\n",
       "447767 2011-12-30 23:30:00        242.0\n",
       "447768 2011-12-31 00:30:00        249.0\n",
       "447769 2011-12-31 01:30:00        133.0\n",
       "447770 2011-12-31 02:30:00         64.0\n",
       "447771 2011-12-31 03:30:00        123.0\n",
       "447772 2011-12-31 04:30:00         56.0\n",
       "447773 2011-12-31 05:30:00         31.0\n",
       "447774 2011-12-31 06:30:00         50.0\n",
       "447775 2011-12-31 07:30:00         82.0\n",
       "447776 2011-12-31 08:30:00        143.0\n",
       "447777 2011-12-31 09:30:00        134.0\n",
       "447778 2011-12-31 10:30:00         62.0\n",
       "447779 2011-12-31 11:30:00         43.0\n",
       "447780 2011-12-31 12:30:00         44.0\n",
       "447781 2011-12-31 13:30:00         27.0\n",
       "447782 2011-12-31 14:30:00         28.0\n",
       "447783 2011-12-31 15:30:00         35.0\n",
       "447784 2011-12-31 16:30:00         25.0\n",
       "447785 2011-12-31 17:30:00         31.0\n",
       "447786 2011-12-31 18:30:00        160.0\n",
       "447787 2011-12-31 19:30:00        153.0\n",
       "447788 2011-12-31 20:30:00         25.0\n",
       "447789 2011-12-31 21:30:00         25.0\n",
       "447790 2011-12-31 22:30:00         52.0\n",
       "447791 2011-12-31 23:30:00        162.0\n",
       "\n",
       "[447792 rows x 2 columns]"
      ]
     },
     "execution_count": 4,
     "metadata": {},
     "output_type": "execute_result"
    }
   ],
   "source": [
    "inputoutput.append_ae_data('/Users/gracecox/Dropbox/ae_index/HOURLY/')"
   ]
  },
  {
   "cell_type": "code",
   "execution_count": null,
   "metadata": {
    "collapsed": true
   },
   "outputs": [],
   "source": []
  }
 ],
 "metadata": {
  "kernelspec": {
   "display_name": "Python 3",
   "language": "python",
   "name": "python3"
  },
  "language_info": {
   "codemirror_mode": {
    "name": "ipython",
    "version": 3
   },
   "file_extension": ".py",
   "mimetype": "text/x-python",
   "name": "python",
   "nbconvert_exporter": "python",
   "pygments_lexer": "ipython3",
   "version": "3.5.2"
  }
 },
 "nbformat": 4,
 "nbformat_minor": 0
}
